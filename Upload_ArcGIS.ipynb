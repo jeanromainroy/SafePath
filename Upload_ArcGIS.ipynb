{
 "cells": [
  {
   "cell_type": "code",
   "execution_count": null,
   "metadata": {},
   "outputs": [],
   "source": [
    "from arcgis.gis import GIS\n",
    "from arcgis.mapping import WebMap\n",
    "\n",
    "# We need to login under any credential to push any data\n",
    "gis = GIS(\"https://www.arcgis.com\", \"username\", \"password\")"
   ]
  },
  {
   "cell_type": "code",
   "execution_count": null,
   "metadata": {},
   "outputs": [],
   "source": [
    "# We import our csv\n",
    "import pandas as pd\n",
    "from datetime import datetime\n",
    "import numpy as np\n",
    "\n",
    "def convertToStr(t):\n",
    "    try:\n",
    "        timestamp = datetime.strptime(t, \"%y-%m-%d %H:%M\");\n",
    "        return timestamp;\n",
    "    except:\n",
    "        return \"\";\n",
    "\n",
    "    \n",
    "\" Import Data \"\n",
    "def readCSV(fileName):\n",
    "    \n",
    "    conv = {\"DateTime\" : lambda t: convertToStr(t)}\n",
    "    df = pd.read_csv(fileName,usecols=[0,1,2,3,4],encoding='latin1', sep=',',\n",
    "                     converters=conv,quotechar='\"', index_col=None, header=0)\n",
    "    nbrOfRows = len(df);\n",
    "    \n",
    "    if(nbrOfRows > 1000):\n",
    "        \n",
    "        print(\"CSV too large, n = \",nbrOfRows)\n",
    "        start_ind = 0;\n",
    "        end_ind = 0;\n",
    "        \n",
    "        for i in range(int(np.ceil(nbrOfRows/1000.0))):\n",
    "            \n",
    "            end_ind += 1000;\n",
    "            delta = nbrOfRows - end_ind;\n",
    "            if(delta <= 0):\n",
    "                end_ind = nbrOfRows - start_ind;\n",
    "            \n",
    "            events_fc = gis.content.import_data(df[start_ind:end_ind])\n",
    "\n",
    "            # PUT MAP NAME HERE\n",
    "            MAP_TEST.add_layer(events_fc)\n",
    "            print(df.loc[start_ind])\n",
    "            start_ind += 1000;\n",
    "    else:\n",
    "        return df"
   ]
  },
  {
   "cell_type": "code",
   "execution_count": null,
   "metadata": {},
   "outputs": [],
   "source": [
    "# Here we convert our local csv in a GIS layer\n",
    "events_fc = gis.content.import_data(df)\n",
    "\n",
    "\"\"\"\n",
    "events_fc_dict = dict(events_fc.properties)\n",
    "#events_json = json.dumps(events_fc_dict)\n",
    "events_json = json.dumps({\"featureCollection\": {\"layers\": [dict(events_fc.layer)]}})\n",
    "events_item_properties = {'title': 'Landmines in Afghanistan',\n",
    "                            'description': 'A catalog of landmine incidents',\n",
    "                            'tags': 'csv, landmine',\n",
    "                            'text':events_json,\n",
    "                            'type':'Feature Collection'}\n",
    "events_item = gis.content.add(events_item_properties)\n",
    "events_item\n",
    "\"\"\""
   ]
  },
  {
   "cell_type": "code",
   "execution_count": null,
   "metadata": {},
   "outputs": [],
   "source": [
    "# To publish on the web\n",
    "pd_data = r\"./events.csv\"\n",
    "pd_data_properties = {'title': 'Landmines in Afghanistan', 'description': 'A catalog of landmine incidents','tags': 'csv, landmine'}\n",
    "\n",
    "sf_pd_item = gis.content.add(item_properties=pd_data_properties,data=pd_data)\n",
    "sf_pd_item\n",
    "sf_pd_feature_layer = sf_pd_item.publish()\n",
    "sf_pd_item.share(True)\n",
    "sf_pd_item"
   ]
  },
  {
   "cell_type": "code",
   "execution_count": null,
   "metadata": {},
   "outputs": [],
   "source": [
    "search_results = gis.content.search(\"IED probability as a fonction of location\",outside_org=True)\n",
    "for result in search_results:\n",
    "    display(result)"
   ]
  },
  {
   "cell_type": "code",
   "execution_count": null,
   "metadata": {},
   "outputs": [],
   "source": [
    "layer1=search_results[0]\n",
    "layer1"
   ]
  },
  {
   "cell_type": "code",
   "execution_count": null,
   "metadata": {},
   "outputs": [],
   "source": [
    "mymap=WebMap(layer1)"
   ]
  },
  {
   "cell_type": "code",
   "execution_count": null,
   "metadata": {},
   "outputs": [],
   "source": [
    "mymap"
   ]
  },
  {
   "cell_type": "code",
   "execution_count": null,
   "metadata": {},
   "outputs": [],
   "source": []
  }
 ],
 "metadata": {
  "kernelspec": {
   "display_name": "Python 3",
   "language": "python",
   "name": "python3"
  },
  "language_info": {
   "codemirror_mode": {
    "name": "ipython",
    "version": 3
   },
   "file_extension": ".py",
   "mimetype": "text/x-python",
   "name": "python",
   "nbconvert_exporter": "python",
   "pygments_lexer": "ipython3",
   "version": "3.6.7"
  }
 },
 "nbformat": 4,
 "nbformat_minor": 2
}
